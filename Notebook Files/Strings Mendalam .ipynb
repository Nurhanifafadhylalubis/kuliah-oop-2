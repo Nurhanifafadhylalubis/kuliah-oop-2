{
 "cells": [
  {
   "cell_type": "code",
   "execution_count": 1,
   "id": "2d6c7690",
   "metadata": {},
   "outputs": [
    {
     "name": "stdout",
     "output_type": "stream",
     "text": [
      "Nurhanifa Fadhyla Lubis\n"
     ]
    }
   ],
   "source": [
    "saya = \"Nurhanifa Fadhyla Lubis\"\n",
    "\n",
    "print (saya)"
   ]
  },
  {
   "cell_type": "code",
   "execution_count": 2,
   "id": "1ad1ab78",
   "metadata": {},
   "outputs": [
    {
     "name": "stdout",
     "output_type": "stream",
     "text": [
      "Nurhanifa Fadhyla Lubis\n"
     ]
    }
   ],
   "source": [
    "print (\"Nurhanifa Fadhyla Lubis\")"
   ]
  },
  {
   "cell_type": "code",
   "execution_count": 3,
   "id": "32c38970",
   "metadata": {},
   "outputs": [
    {
     "data": {
      "text/plain": [
       "str"
      ]
     },
     "execution_count": 3,
     "metadata": {},
     "output_type": "execute_result"
    }
   ],
   "source": [
    "type (saya)"
   ]
  },
  {
   "cell_type": "code",
   "execution_count": 4,
   "id": "e9280e04",
   "metadata": {},
   "outputs": [
    {
     "data": {
      "text/plain": [
       "'c'"
      ]
     },
     "execution_count": 4,
     "metadata": {},
     "output_type": "execute_result"
    }
   ],
   "source": [
    "#string indexing\n",
    "string_saya = 'abcdefg'\n",
    "\n",
    "string_saya[2]"
   ]
  },
  {
   "cell_type": "code",
   "execution_count": 5,
   "id": "1c4a413f",
   "metadata": {},
   "outputs": [
    {
     "data": {
      "text/plain": [
       "'a'"
      ]
     },
     "execution_count": 5,
     "metadata": {},
     "output_type": "execute_result"
    }
   ],
   "source": [
    "string_saya[0]"
   ]
  },
  {
   "cell_type": "code",
   "execution_count": 6,
   "id": "ee0e64d7",
   "metadata": {},
   "outputs": [
    {
     "data": {
      "text/plain": [
       "'Nurh'"
      ]
     },
     "execution_count": 6,
     "metadata": {},
     "output_type": "execute_result"
    }
   ],
   "source": [
    "#string slicing\n",
    "\n",
    "nama = 'Nurhanifa Fadhyla Lubis'\n",
    "\n",
    "nama[0:4]"
   ]
  },
  {
   "cell_type": "code",
   "execution_count": 7,
   "id": "400d9071",
   "metadata": {},
   "outputs": [
    {
     "data": {
      "text/plain": [
       "'Nurhan'"
      ]
     },
     "execution_count": 7,
     "metadata": {},
     "output_type": "execute_result"
    }
   ],
   "source": [
    "nama[0:6]"
   ]
  },
  {
   "cell_type": "code",
   "execution_count": 8,
   "id": "8d5bfe61",
   "metadata": {},
   "outputs": [
    {
     "data": {
      "text/plain": [
       "'i'"
      ]
     },
     "execution_count": 8,
     "metadata": {},
     "output_type": "execute_result"
    }
   ],
   "source": [
    "nama[6]"
   ]
  },
  {
   "cell_type": "code",
   "execution_count": 9,
   "id": "6199319e",
   "metadata": {},
   "outputs": [
    {
     "name": "stdout",
     "output_type": "stream",
     "text": [
      "Nama Mahasiswa adalah Nurhanifa Fadhyla Lubis.\n"
     ]
    }
   ],
   "source": [
    "#Strings print formating\n",
    "\n",
    "nama = \"Nurhanifa Fadhyla Lubis\"\n",
    "\n",
    "print(f'Nama Mahasiswa adalah {nama}.')"
   ]
  },
  {
   "cell_type": "markdown",
   "id": "6d2a93ad",
   "metadata": {},
   "source": [
    "# Tugas Saya\n",
    "\n",
    "1. Cari tahu teknik print formatting lain untuk string\n",
    "2. Gunakan teknik tersebut untuk menuliskan nama dengan menggunakan variabel yang didefinisikan terlebih dahulu\n",
    "3. Upload code tersebut dalam bentuk file jupyter notebook ke dalam github masing-masing"
   ]
  },
  {
   "cell_type": "code",
   "execution_count": null,
   "id": "72984a4b",
   "metadata": {},
   "outputs": [],
   "source": []
  }
 ],
 "metadata": {
  "kernelspec": {
   "display_name": "Python 3",
   "language": "python",
   "name": "python3"
  },
  "language_info": {
   "codemirror_mode": {
    "name": "ipython",
    "version": 3
   },
   "file_extension": ".py",
   "mimetype": "text/x-python",
   "name": "python",
   "nbconvert_exporter": "python",
   "pygments_lexer": "ipython3",
   "version": "3.9.2"
  }
 },
 "nbformat": 4,
 "nbformat_minor": 5
}
