{
 "cells": [
  {
   "cell_type": "markdown",
   "id": "080962c1",
   "metadata": {},
   "source": [
    "# Data Group\n",
    "Data group merupakan kelompok data yang diatur sedemikian rupa, dengan karakteristik khusus tertentu.\n",
    "\n",
    "1. List\n",
    "2. Dictionary\n",
    "3. Tuples\n",
    "4. Sets"
   ]
  },
  {
   "cell_type": "code",
   "execution_count": 1,
   "id": "bcd37179",
   "metadata": {},
   "outputs": [],
   "source": [
    "#List\n",
    "daftar = [1,2,3,4]"
   ]
  },
  {
   "cell_type": "code",
   "execution_count": 2,
   "id": "667af950",
   "metadata": {},
   "outputs": [
    {
     "data": {
      "text/plain": [
       "list"
      ]
     },
     "execution_count": 2,
     "metadata": {},
     "output_type": "execute_result"
    }
   ],
   "source": [
    "type(daftar)"
   ]
  },
  {
   "cell_type": "code",
   "execution_count": 3,
   "id": "e49d16c6",
   "metadata": {},
   "outputs": [
    {
     "data": {
      "text/plain": [
       "4"
      ]
     },
     "execution_count": 3,
     "metadata": {},
     "output_type": "execute_result"
    }
   ],
   "source": [
    "len(daftar)"
   ]
  },
  {
   "cell_type": "code",
   "execution_count": 5,
   "id": "c1f4e0dd",
   "metadata": {},
   "outputs": [
    {
     "data": {
      "text/plain": [
       "4"
      ]
     },
     "execution_count": 5,
     "metadata": {},
     "output_type": "execute_result"
    }
   ],
   "source": [
    "daftar[3]"
   ]
  },
  {
   "cell_type": "code",
   "execution_count": 6,
   "id": "b2b58544",
   "metadata": {},
   "outputs": [],
   "source": [
    "daftar_baru = daftar[0:2]"
   ]
  },
  {
   "cell_type": "code",
   "execution_count": 7,
   "id": "44ff7e44",
   "metadata": {},
   "outputs": [
    {
     "name": "stdout",
     "output_type": "stream",
     "text": [
      "[1, 2]\n"
     ]
    }
   ],
   "source": [
    "print(daftar_baru)"
   ]
  },
  {
   "cell_type": "code",
   "execution_count": 8,
   "id": "d8167263",
   "metadata": {},
   "outputs": [
    {
     "data": {
      "text/plain": [
       "2"
      ]
     },
     "execution_count": 8,
     "metadata": {},
     "output_type": "execute_result"
    }
   ],
   "source": [
    "len(daftar_baru)"
   ]
  },
  {
   "cell_type": "code",
   "execution_count": 9,
   "id": "30216a0e",
   "metadata": {},
   "outputs": [
    {
     "data": {
      "text/plain": [
       "[1, 2, 3, 4, 'lima']"
      ]
     },
     "execution_count": 9,
     "metadata": {},
     "output_type": "execute_result"
    }
   ],
   "source": [
    "daftar + ['lima']"
   ]
  },
  {
   "cell_type": "code",
   "execution_count": 10,
   "id": "4e5e69ba",
   "metadata": {},
   "outputs": [
    {
     "data": {
      "text/plain": [
       "4"
      ]
     },
     "execution_count": 10,
     "metadata": {},
     "output_type": "execute_result"
    }
   ],
   "source": [
    "len(daftar)"
   ]
  },
  {
   "cell_type": "code",
   "execution_count": 11,
   "id": "a5726dab",
   "metadata": {},
   "outputs": [],
   "source": [
    "daftar_baru = daftar + ['lima']"
   ]
  },
  {
   "cell_type": "code",
   "execution_count": 12,
   "id": "327f3fd4",
   "metadata": {},
   "outputs": [
    {
     "data": {
      "text/plain": [
       "5"
      ]
     },
     "execution_count": 12,
     "metadata": {},
     "output_type": "execute_result"
    }
   ],
   "source": [
    "len(daftar_baru)"
   ]
  },
  {
   "cell_type": "code",
   "execution_count": 13,
   "id": "fe5b4fac",
   "metadata": {},
   "outputs": [
    {
     "name": "stdout",
     "output_type": "stream",
     "text": [
      "[1, 2, 3, 4, 'lima']\n"
     ]
    }
   ],
   "source": [
    "print(daftar_baru)"
   ]
  },
  {
   "cell_type": "code",
   "execution_count": 14,
   "id": "96fe16dc",
   "metadata": {},
   "outputs": [
    {
     "data": {
      "text/plain": [
       "4"
      ]
     },
     "execution_count": 14,
     "metadata": {},
     "output_type": "execute_result"
    }
   ],
   "source": [
    "daftar_baru.pop(3)"
   ]
  },
  {
   "cell_type": "code",
   "execution_count": 15,
   "id": "02cebb68",
   "metadata": {},
   "outputs": [
    {
     "name": "stdout",
     "output_type": "stream",
     "text": [
      "[1, 2, 3, 'lima']\n"
     ]
    }
   ],
   "source": [
    "print(daftar_baru)"
   ]
  },
  {
   "cell_type": "code",
   "execution_count": 16,
   "id": "14385161",
   "metadata": {},
   "outputs": [
    {
     "data": {
      "text/plain": [
       "[1, 2, 3, 'lima', 1, 2, 3, 'lima', 1, 2, 3, 'lima', 1, 2, 3, 'lima']"
      ]
     },
     "execution_count": 16,
     "metadata": {},
     "output_type": "execute_result"
    }
   ],
   "source": [
    "daftar_baru*4"
   ]
  },
  {
   "cell_type": "code",
   "execution_count": 19,
   "id": "6c7ab850",
   "metadata": {},
   "outputs": [],
   "source": [
    "#Dictionary\n",
    "kamus = {'c':10,'z':'pintar','a':'cerdas'}"
   ]
  },
  {
   "cell_type": "code",
   "execution_count": null,
   "id": "954ab5cc",
   "metadata": {},
   "outputs": [],
   "source": []
  }
 ],
 "metadata": {
  "kernelspec": {
   "display_name": "Python 3",
   "language": "python",
   "name": "python3"
  },
  "language_info": {
   "codemirror_mode": {
    "name": "ipython",
    "version": 3
   },
   "file_extension": ".py",
   "mimetype": "text/x-python",
   "name": "python",
   "nbconvert_exporter": "python",
   "pygments_lexer": "ipython3",
   "version": "3.9.2"
  }
 },
 "nbformat": 4,
 "nbformat_minor": 5
}
