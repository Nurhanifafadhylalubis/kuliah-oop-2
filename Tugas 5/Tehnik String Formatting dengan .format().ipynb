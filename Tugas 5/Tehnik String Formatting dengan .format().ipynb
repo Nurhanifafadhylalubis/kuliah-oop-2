{
 "cells": [
  {
   "cell_type": "code",
   "execution_count": 3,
   "id": "cd10afe2",
   "metadata": {},
   "outputs": [
    {
     "name": "stdout",
     "output_type": "stream",
     "text": [
      "Nama Saya Nurhanifa Fadhyla Lubis, Alamat Saya di Sawah Lebar\n"
     ]
    }
   ],
   "source": [
    "nama=\"Nurhanifa Fadhyla Lubis\"\n",
    "alamat=\"Sawah Lebar\"\n",
    "\n",
    "print('Nama Saya {}, Alamat Saya di {}'.format(nama,alamat))"
   ]
  },
  {
   "cell_type": "code",
   "execution_count": null,
   "id": "b6990e5a",
   "metadata": {},
   "outputs": [],
   "source": []
  }
 ],
 "metadata": {
  "kernelspec": {
   "display_name": "Python 3",
   "language": "python",
   "name": "python3"
  },
  "language_info": {
   "codemirror_mode": {
    "name": "ipython",
    "version": 3
   },
   "file_extension": ".py",
   "mimetype": "text/x-python",
   "name": "python",
   "nbconvert_exporter": "python",
   "pygments_lexer": "ipython3",
   "version": "3.9.2"
  }
 },
 "nbformat": 4,
 "nbformat_minor": 5
}
